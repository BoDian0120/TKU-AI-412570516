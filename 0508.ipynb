{
  "nbformat": 4,
  "nbformat_minor": 0,
  "metadata": {
    "colab": {
      "provenance": [],
      "authorship_tag": "ABX9TyNOOvs1ceqgI01ClDlFJUqM",
      "include_colab_link": true
    },
    "kernelspec": {
      "name": "python3",
      "display_name": "Python 3"
    },
    "language_info": {
      "name": "python"
    }
  },
  "cells": [
    {
      "cell_type": "markdown",
      "metadata": {
        "id": "view-in-github",
        "colab_type": "text"
      },
      "source": [
        "<a href=\"https://colab.research.google.com/github/BoDian0120/TKU-AI-412570516/blob/main/0508.ipynb\" target=\"_parent\"><img src=\"https://colab.research.google.com/assets/colab-badge.svg\" alt=\"Open In Colab\"/></a>"
      ]
    },
    {
      "cell_type": "code",
      "execution_count": null,
      "metadata": {
        "colab": {
          "base_uri": "https://localhost:8080/"
        },
        "id": "xdBFtBwFFAXw",
        "outputId": "a72825a8-ac6a-440f-e111-ecab28c4c14e"
      },
      "outputs": [
        {
          "output_type": "stream",
          "name": "stdout",
          "text": [
            "你年齡太小\n",
            "需年滿20歲才可以買菸酒\n"
          ]
        }
      ],
      "source": [
        "age=19\n",
        "if(age<20):\n",
        "  print(\"你年齡太小\")\n",
        "  print('需年滿20歲才可以買菸酒')"
      ]
    },
    {
      "cell_type": "code",
      "source": [
        "age=input(\"請輸入年齡\")\n",
        "if(int(age)<20):\n",
        "  print(\"你年齡太小\")\n",
        "  print(\"需年滿20歲才可以購買菸酒\")\n",
        "else:\n",
        "  print(\"歡迎購買菸酒\")"
      ],
      "metadata": {
        "colab": {
          "base_uri": "https://localhost:8080/"
        },
        "id": "J--3yaenHQHE",
        "outputId": "def1fa98-905b-4083-be7a-23f62e3c59c5"
      },
      "execution_count": null,
      "outputs": [
        {
          "output_type": "stream",
          "name": "stdout",
          "text": [
            "請輸入年齡50\n",
            "歡迎購買菸酒\n"
          ]
        }
      ]
    },
    {
      "cell_type": "code",
      "source": [
        "print(\"計算最終成績\")\n",
        "score=input(\"請輸入分數\")\n",
        "sc=int(score)\n",
        "if(sc>=90):\n",
        "  print(\"A\")\n",
        "elif(sc>=80):\n",
        "  print(\"B\")\n",
        "elif(sc>=70):\n",
        "  print(\"C\")\n",
        "elif(sc>=60):\n",
        "  print(\"D\")\n",
        "else:\n",
        "  print(\"F\")"
      ],
      "metadata": {
        "colab": {
          "base_uri": "https://localhost:8080/"
        },
        "id": "m_nDikJaHQOj",
        "outputId": "1d6781aa-07b7-4e9f-dfa2-cf3b934a3f7a"
      },
      "execution_count": null,
      "outputs": [
        {
          "output_type": "stream",
          "name": "stdout",
          "text": [
            "計算最終成績\n",
            "請輸入分數85\n",
            "B\n"
          ]
        }
      ]
    },
    {
      "cell_type": "code",
      "source": [
        "print(\"判斷輸入年份是否閏年\")\n",
        "year=int(input(\"請輸入年份\"))\n",
        "rem4=year%4\n",
        "rem100=year%100\n",
        "rem400=year%400\n",
        "if rem4 == 0:\n",
        "  if rem100 != 0 or rem400 == 0:\n",
        "    print(\"是閏年:\",year)\n",
        "  else:\n",
        "    print(\"是平年:\",year)\n",
        "else:\n",
        "  print(\"是平年:\",year)"
      ],
      "metadata": {
        "colab": {
          "base_uri": "https://localhost:8080/"
        },
        "id": "9fy2W9MpH9g0",
        "outputId": "93b9d9ff-7441-44f5-de48-17e1da94c4fd"
      },
      "execution_count": null,
      "outputs": [
        {
          "output_type": "stream",
          "name": "stdout",
          "text": [
            "判斷輸入年份是否閏年\n",
            "請輸入年份2055\n",
            "是平年: 2055\n"
          ]
        }
      ]
    },
    {
      "cell_type": "code",
      "source": [
        "a=int(input())\n",
        "if(a>=0):\n",
        "  if(a%2==0):\n",
        "    print(\"{} is even\".format(a))\n",
        "  else:\n",
        "    print(\"{} is odd\".format(a))\n",
        "else:\n",
        "  print(\"Input Error\")"
      ],
      "metadata": {
        "colab": {
          "base_uri": "https://localhost:8080/"
        },
        "id": "85jm6RgXNwDh",
        "outputId": "d08a7fca-06b4-4158-ec9b-03554c4553c6"
      },
      "execution_count": null,
      "outputs": [
        {
          "output_type": "stream",
          "name": "stdout",
          "text": [
            "2\n",
            "2 is even\n"
          ]
        }
      ]
    }
  ]
}