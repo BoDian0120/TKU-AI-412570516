{
  "nbformat": 4,
  "nbformat_minor": 0,
  "metadata": {
    "colab": {
      "provenance": [],
      "authorship_tag": "ABX9TyMRdVSlbpi57LXCKdzF4YNZ",
      "include_colab_link": true
    },
    "kernelspec": {
      "name": "python3",
      "display_name": "Python 3"
    },
    "language_info": {
      "name": "python"
    }
  },
  "cells": [
    {
      "cell_type": "markdown",
      "metadata": {
        "id": "view-in-github",
        "colab_type": "text"
      },
      "source": [
        "<a href=\"https://colab.research.google.com/github/BoDian0120/TKU-AI-412570516/blob/main/05_08.ipynb\" target=\"_parent\"><img src=\"https://colab.research.google.com/assets/colab-badge.svg\" alt=\"Open In Colab\"/></a>"
      ]
    },
    {
      "cell_type": "code",
      "source": [
        "print(\"計算最終成績\")\n",
        "score=input(\"請輸入分數\")\n",
        "sc=int(score)\n",
        "if(sc>=90):\n",
        "  print(\"A\")\n",
        "elif(sc>=80):\n",
        "  print(\"B\")\n",
        "elif(sc>=70):\n",
        "  print(\"C\")\n",
        "elif(sc>=60):\n",
        "  print(\"D\")\n",
        "else:\n",
        "  print(\"E\")"
      ],
      "metadata": {
        "colab": {
          "base_uri": "https://localhost:8080/"
        },
        "id": "m_nDikJaHQOj",
        "outputId": "8b3bc8e9-763d-4c14-b6be-c79952f132dd"
      },
      "execution_count": null,
      "outputs": [
        {
          "output_type": "stream",
          "name": "stdout",
          "text": [
            "計算最終成績\n",
            "請輸入分數66\n",
            "D\n"
          ]
        }
      ]
    },
    {
      "cell_type": "code",
      "source": [
        "print(\"判斷體溫\")\n",
        "temperature=input(\"請輸入體溫\")\n",
        "a=int(temperature)\n",
        "if(a>=34,a<=36.9):\n",
        "  print(\"體溫正常!\")\n",
        "elif(a<34):\n",
        "  print(\"體溫異常，請重新測量!\")\n",
        "elif(a>=37,a<=37.4):\n",
        "  print(\"體溫略高!\")\n",
        "elif(a>=37.5):\n",
        "  print(\"體溫過高!\")"
      ],
      "metadata": {
        "colab": {
          "base_uri": "https://localhost:8080/"
        },
        "outputId": "30fa9171-c498-4018-e379-41aff141b5b2",
        "id": "0Cq-cHDvmywG"
      },
      "execution_count": null,
      "outputs": [
        {
          "output_type": "stream",
          "name": "stdout",
          "text": [
            "判斷體溫\n",
            "請輸入體溫36\n",
            "體溫正常!\n"
          ]
        }
      ]
    },
    {
      "cell_type": "code",
      "source": [
        "print(\"判斷季節\")\n",
        "season=input(\"請輸入季節\")\n",
        "a=int(season)\n",
        "if(a=3 or a=4 or a=5):\n",
        "  print(\"月是春天\")\n",
        "elif(a=6 or a=7 or a=8):\n",
        "  print(\"月是夏天\")\n",
        "elif(a=9 or a=10 or a=11):\n",
        "  print(\"月是秋天\")\n",
        "elif(a=12 or a=1 or a=2):\n",
        "  print(\"月是冬天\")"
      ],
      "metadata": {
        "colab": {
          "base_uri": "https://localhost:8080/",
          "height": 108
        },
        "id": "iMVMe165pDgT",
        "outputId": "dce2dbd7-ca2c-454a-83e6-2e4d50b35923"
      },
      "execution_count": null,
      "outputs": [
        {
          "output_type": "error",
          "ename": "SyntaxError",
          "evalue": "invalid syntax. Maybe you meant '==' or ':=' instead of '='? (<ipython-input-8-1bb1bd820455>, line 4)",
          "traceback": [
            "\u001b[0;36m  File \u001b[0;32m\"<ipython-input-8-1bb1bd820455>\"\u001b[0;36m, line \u001b[0;32m4\u001b[0m\n\u001b[0;31m    if(a=3 or a=4 or a=5):\u001b[0m\n\u001b[0m       ^\u001b[0m\n\u001b[0;31mSyntaxError\u001b[0m\u001b[0;31m:\u001b[0m invalid syntax. Maybe you meant '==' or ':=' instead of '='?\n"
          ]
        }
      ]
    }
  ]
}